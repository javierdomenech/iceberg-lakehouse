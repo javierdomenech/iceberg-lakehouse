{
 "cells": [
  {
   "cell_type": "code",
   "execution_count": 1,
   "id": "79eb0172-456b-48c0-b0cd-d88c1691c732",
   "metadata": {},
   "outputs": [],
   "source": [
    "import pyspark\n",
    "import re\n",
    "from pyspark.sql import SparkSession\n",
    "from pyspark.sql import Row\n",
    "import pyspark.sql.functions as F\n",
    "from pyspark.sql.types import StructType, StructField, StringType, DateType, IntegerType, DoubleType"
   ]
  },
  {
   "cell_type": "markdown",
   "id": "35e798de-d432-4062-b520-89f70ce250be",
   "metadata": {},
   "source": [
    "Install findspark to make available spark from jupyter-python"
   ]
  },
  {
   "cell_type": "code",
   "execution_count": 2,
   "id": "386f6876-6b0d-46b9-8e22-0feede1e5c20",
   "metadata": {},
   "outputs": [],
   "source": [
    "#!conda insstall openjdk\n",
    "#!conda install findspark\n",
    "#install hadoop:\n",
    "#https://github.com/ruslanmv/How-to-install-Hadoop-on-Windows?tab=readme-ov-file"
   ]
  },
  {
   "cell_type": "code",
   "execution_count": 3,
   "id": "279fd008-c135-4b35-b83e-395055153bc8",
   "metadata": {},
   "outputs": [
    {
     "data": {
      "text/plain": [
       "'c:\\\\soft\\\\miniconda3\\\\envs\\\\iceberg_env\\\\lib\\\\site-packages\\\\pyspark'"
      ]
     },
     "execution_count": 3,
     "metadata": {},
     "output_type": "execute_result"
    }
   ],
   "source": [
    "import findspark\n",
    "findspark.init()\n",
    "findspark.find()"
   ]
  },
  {
   "cell_type": "code",
   "execution_count": 4,
   "id": "a190d291-aecc-43be-a91b-9cc0ba6ccc90",
   "metadata": {},
   "outputs": [
    {
     "name": "stderr",
     "output_type": "stream",
     "text": [
      "Welcome to\n",
      "      ____              __\n",
      "     / __/__  ___ _____/ /__\n",
      "    _\\ \\/ _ \\/ _ `/ __/  '_/\n",
      "   /___/ .__/\\_,_/_/ /_/\\_\\   version 3.4.1\n",
      "      /_/\n",
      "                        \n",
      "Using Scala version 2.12.17, OpenJDK 64-Bit Server VM, 11.0.13\n",
      "Branch HEAD\n",
      "Compiled by user centos on 2023-06-19T23:01:01Z\n",
      "Revision 6b1ff22dde1ead51cbf370be6e48a802daae58b6\n",
      "Url https://github.com/apache/spark\n",
      "Type --help for more information.\n"
     ]
    }
   ],
   "source": [
    "!pyspark --version"
   ]
  },
  {
   "cell_type": "code",
   "execution_count": 5,
   "id": "16b7803d-6401-4594-95e6-3a8d212966d1",
   "metadata": {},
   "outputs": [],
   "source": [
    "#spark.stop()"
   ]
  },
  {
   "cell_type": "code",
   "execution_count": 6,
   "id": "4d8dfb86-6dc9-4180-beff-af258f5f0524",
   "metadata": {},
   "outputs": [
    {
     "name": "stdout",
     "output_type": "stream",
     "text": [
      "Spark Running\n"
     ]
    }
   ],
   "source": [
    "catalog_nm = \"flights_catalog\"\n",
    "layer_nm = \"silver\" #options: \"silver\", \"gold\"\n",
    "warehouse_path = f\"file:/C:/ws/github/iceberg-lakehouse/warehouse_flights/{layer_nm}\"\n",
    "sales_table_nm = \"sales\"\n",
    "\n",
    "conf = (\n",
    "    pyspark.SparkConf()\n",
    "    .setAppName(\"iceberg_flights_app\")\n",
    "    #packages\n",
    "    .set(\"spark.jars.packages\", \"org.apache.iceberg:iceberg-spark-runtime-3.4_2.12:1.5.2\") #spark: 3.4, scala:2.12 iceberg:1.5.2\n",
    "    #SQL extensions\n",
    "    .set(\"spark.sql.extensions\",\"org.apache.iceberg.spark.extensions:IcebergSparkSessionExtensions\")\n",
    "    #Eager evaluation\n",
    "    .set('spark.sql.repl.eagerEval.enabled', True)\n",
    "    #Configuring catalog\n",
    "    .set(f\"spark.sql.catalog.{catalog_nm}\",\"org.apache.iceberg.spark.SparkCatalog\")\n",
    "    .set(f\"spark.sql.catalog.{catalog_nm}.type\",\"hadoop\")\n",
    "    .set(f\"spark.sql.catalog.{catalog_nm}.warehouse\",warehouse_path)\n",
    ")\n",
    "\n",
    "#Start SparkSession\n",
    "spark = SparkSession.builder.config(conf=conf).getOrCreate()\n",
    "print(\"Spark Running\")"
   ]
  },
  {
   "cell_type": "code",
   "execution_count": 7,
   "id": "5cf37f15-0b58-456a-98d8-3aef8c38bbc8",
   "metadata": {},
   "outputs": [
    {
     "data": {
      "text/html": [
       "\n",
       "            <div>\n",
       "                <p><b>SparkSession - in-memory</b></p>\n",
       "                \n",
       "        <div>\n",
       "            <p><b>SparkContext</b></p>\n",
       "\n",
       "            <p><a href=\"http://Numah.local.tld:4040\">Spark UI</a></p>\n",
       "\n",
       "            <dl>\n",
       "              <dt>Version</dt>\n",
       "                <dd><code>v3.4.1</code></dd>\n",
       "              <dt>Master</dt>\n",
       "                <dd><code>local[*]</code></dd>\n",
       "              <dt>AppName</dt>\n",
       "                <dd><code>iceberg_flights_app</code></dd>\n",
       "            </dl>\n",
       "        </div>\n",
       "        \n",
       "            </div>\n",
       "        "
      ],
      "text/plain": [
       "<pyspark.sql.session.SparkSession at 0x2d124e92620>"
      ]
     },
     "execution_count": 7,
     "metadata": {},
     "output_type": "execute_result"
    }
   ],
   "source": [
    "spark"
   ]
  },
  {
   "cell_type": "markdown",
   "id": "4a7fb95f-a3bd-44c3-8650-8e97f2992f4b",
   "metadata": {},
   "source": [
    "Schema declaration"
   ]
  },
  {
   "cell_type": "code",
   "execution_count": 8,
   "id": "cd58a575-42d0-404c-8fd1-8b3e8988674c",
   "metadata": {},
   "outputs": [],
   "source": [
    "staging_in_schema = StructType([\n",
    "    StructField(\"transaction_id\", StringType(), nullable=False),\n",
    "    StructField(\"customer_id\", StringType(), nullable=False),\n",
    "    StructField(\"transaction_timestamp\", StringType(), nullable=False),\n",
    "    StructField(\"price\", StringType(), nullable=False),\n",
    "    StructField(\"currency\", StringType(), nullable=False),\n",
    "    StructField(\"flight_id\", StringType(), nullable=False),\n",
    "    StructField(\"booking_reference\", StringType(), nullable=True)\n",
    "])"
   ]
  },
  {
   "cell_type": "code",
   "execution_count": 9,
   "id": "b885c3fb-e276-4200-8a37-fb675e5fc442",
   "metadata": {},
   "outputs": [],
   "source": [
    "staging_path = \"file:/C:/ws/github/iceberg-lakehouse/staging/\"\n",
    "date_str = \"20130701\"\n",
    "file_nm = f\"sellings_{date_str}_MADJHT.csv\"\n",
    "staging_file_path = staging_path + file_nm\n",
    "#staging_df = spark.read.format('csv').option(\"header\",\"true\").load(staging_file_path)\n",
    "#staging_df = spark.read.csv(staging_file_path, header=True, nanValue=\"N/A\",mode=\"FAILFAST\",schema=staging_in_schema)\n",
    "staging_df = (\n",
    "    spark.read.format('csv')\n",
    "    .option(\"header\",\"true\")\n",
    "    .schema(staging_in_schema)\n",
    "    .load(staging_file_path)\n",
    ")"
   ]
  },
  {
   "cell_type": "code",
   "execution_count": 10,
   "id": "6c959b4c-18ab-4d67-b4be-92fb3fd0a522",
   "metadata": {},
   "outputs": [
    {
     "name": "stdout",
     "output_type": "stream",
     "text": [
      "root\n",
      " |-- transaction_id: string (nullable = true)\n",
      " |-- customer_id: string (nullable = true)\n",
      " |-- transaction_timestamp: string (nullable = true)\n",
      " |-- price: string (nullable = true)\n",
      " |-- currency: string (nullable = true)\n",
      " |-- flight_id: string (nullable = true)\n",
      " |-- booking_reference: string (nullable = true)\n",
      "\n"
     ]
    }
   ],
   "source": [
    "staging_df.printSchema()"
   ]
  },
  {
   "cell_type": "code",
   "execution_count": 11,
   "id": "1b56fb6e-bace-43af-b59d-cbcb9bcd52c3",
   "metadata": {},
   "outputs": [
    {
     "name": "stdout",
     "output_type": "stream",
     "text": [
      "+--------------+-----------+---------------------+------+--------+---------+-----------------+\n",
      "|transaction_id|customer_id|transaction_timestamp| price|currency|flight_id|booking_reference|\n",
      "+--------------+-----------+---------------------+------+--------+---------+-----------------+\n",
      "|   TRANS000001|   CUST0011|  2023-07-01 06:24:38| 94.42|     JPY|FLIGHT244|           YCQFNE|\n",
      "|   TRANS000002|   CUST0008|  2023-07-01 09:28:36|218.85|     AUD|FLIGHT216|           MHT3NF|\n",
      "|   TRANS000003|   CUST0014|  2023-07-01 11:03:03|386.81|     JPY|FLIGHT283|           O2XX7D|\n",
      "|   TRANS000004|   CUST0017|  2023-07-01 03:05:35|124.76|     EUR|FLIGHT383|           EERBGZ|\n",
      "|   TRANS000005|   CUST0011|  2023-07-01 20:54:31| 716.0|     USD|FLIGHT880|           299JQ9|\n",
      "|   TRANS000006|   CUST0010|  2023-07-01 10:13:58|323.22|     GBP|FLIGHT594|           NN6EKT|\n",
      "|   TRANS000007|   CUST0002|  2023-07-01 17:02:26|663.38|     JPY|FLIGHT786|           GZMGEY|\n",
      "|   TRANS000008|   CUST0001|  2023-07-01 22:31:49| 89.29|     AUD|FLIGHT934|           HHBZAP|\n",
      "|   TRANS000009|   CUST0002|  2023-07-01 06:22:59|896.51|     GBP|FLIGHT725|           JYUH3J|\n",
      "|   TRANS000010|   CUST0006|  2023-07-01 22:56:22| 401.8|     JPY|FLIGHT371|           7VAEH2|\n",
      "|   TRANS000011|   CUST0015|  2023-07-01 05:37:55| 73.12|     AUD|FLIGHT805|           DEULH5|\n",
      "|   TRANS000012|   CUST0013|  2023-07-01 17:03:14|189.62|     EUR|FLIGHT793|           9XAB4A|\n",
      "|   TRANS000013|   CUST0019|  2023-07-01 10:03:18|923.72|     AUD|FLIGHT426|           3QCJJF|\n",
      "|   TRANS000014|   CUST0002|  2023-07-01 12:10:07|954.73|     USD|FLIGHT609|           8AER1B|\n",
      "|   TRANS000015|   CUST0008|  2023-07-01 23:04:34|402.07|     JPY|FLIGHT628|           PI2XJS|\n",
      "|   TRANS000016|   CUST0013|  2023-07-01 09:02:50| 60.69|     JPY|FLIGHT801|           CPEHII|\n",
      "|   TRANS000017|   CUST0011|  2023-07-01 14:10:01|104.97|     JPY|FLIGHT948|           MI3M25|\n",
      "|   TRANS000018|   CUST0018|  2023-07-01 17:20:30| 379.2|     GBP|FLIGHT159|           IZV94U|\n",
      "|   TRANS000019|   CUST0004|  2023-07-01 22:24:29|395.28|     EUR|FLIGHT939|           RYBI4C|\n",
      "|   TRANS000020|   CUST0007|  2023-07-01 10:01:50|332.89|     JPY|FLIGHT475|           6LK1KI|\n",
      "+--------------+-----------+---------------------+------+--------+---------+-----------------+\n",
      "only showing top 20 rows\n",
      "\n"
     ]
    }
   ],
   "source": [
    "staging_df.show()"
   ]
  },
  {
   "cell_type": "code",
   "execution_count": 12,
   "id": "73241117-b9f3-4716-a488-68418c458a98",
   "metadata": {
    "scrolled": true
   },
   "outputs": [
    {
     "data": {
      "text/plain": [
       "100"
      ]
     },
     "execution_count": 12,
     "metadata": {},
     "output_type": "execute_result"
    }
   ],
   "source": [
    "staging_df.count()"
   ]
  },
  {
   "cell_type": "markdown",
   "id": "361e186a-1974-4f34-9f97-7d99dcec7e27",
   "metadata": {},
   "source": [
    "Calculate columns for partitioning:year_ptt, month_ptt, year_ptt"
   ]
  },
  {
   "cell_type": "code",
   "execution_count": 13,
   "id": "64fc357e-139f-4a6c-a3f2-5e698f82f901",
   "metadata": {},
   "outputs": [
    {
     "name": "stdout",
     "output_type": "stream",
     "text": [
      "sellings_20130701_MADJHT.csv\n",
      "2013-07-01\n"
     ]
    }
   ],
   "source": [
    "#Extract transaction year, month and day from the csv filename\n",
    "print(file_nm)\n",
    "#file_nm2= \"selkjdkjfijelskjlkjledkjfe_201307901_eldkfkendnknd.csv\"\n",
    "matched = re.search(\"[^_]*_(\\\\d{4})(\\\\d{2})(\\\\d{2})_[^\\.]*\\.csv\",file_nm)\n",
    "if matched:\n",
    "    year_ptt = matched.group(1)\n",
    "    month_ptt = matched.group(2)\n",
    "    day_ptt = matched.group(3)\n",
    "    print(f\"{year_ptt}-{month_ptt}-{day_ptt}\")\n",
    "else:\n",
    "    raise ValueError(\"Incorrect file name\")"
   ]
  },
  {
   "cell_type": "code",
   "execution_count": 14,
   "id": "829388d9-708c-404f-b986-eb2d23d230c7",
   "metadata": {},
   "outputs": [],
   "source": [
    "staging_df = (\n",
    "    staging_df.withColumn('year_ptt',F.lit(year_ptt).cast(IntegerType()))\n",
    "    .withColumn('month_ptt',F.lit(month_ptt).cast(IntegerType()))\n",
    "    .withColumn('day_ptt',F.lit(day_ptt).cast(IntegerType()))\n",
    ")"
   ]
  },
  {
   "cell_type": "code",
   "execution_count": 15,
   "id": "d81814a9-110d-44f1-9159-5ed561ba8d56",
   "metadata": {},
   "outputs": [
    {
     "name": "stdout",
     "output_type": "stream",
     "text": [
      "root\n",
      " |-- transaction_id: string (nullable = true)\n",
      " |-- customer_id: string (nullable = true)\n",
      " |-- transaction_timestamp: string (nullable = true)\n",
      " |-- price: string (nullable = true)\n",
      " |-- currency: string (nullable = true)\n",
      " |-- flight_id: string (nullable = true)\n",
      " |-- booking_reference: string (nullable = true)\n",
      " |-- year_ptt: integer (nullable = true)\n",
      " |-- month_ptt: integer (nullable = true)\n",
      " |-- day_ptt: integer (nullable = true)\n",
      "\n"
     ]
    }
   ],
   "source": [
    "staging_df.printSchema()"
   ]
  },
  {
   "cell_type": "code",
   "execution_count": 16,
   "id": "e5e2d3d0-6706-4e33-9cd1-d34eb810a6f6",
   "metadata": {},
   "outputs": [
    {
     "name": "stdout",
     "output_type": "stream",
     "text": [
      "+--------------+-----------+---------------------+------+--------+---------+-----------------+--------+---------+-------+\n",
      "|transaction_id|customer_id|transaction_timestamp| price|currency|flight_id|booking_reference|year_ptt|month_ptt|day_ptt|\n",
      "+--------------+-----------+---------------------+------+--------+---------+-----------------+--------+---------+-------+\n",
      "|   TRANS000001|   CUST0011|  2023-07-01 06:24:38| 94.42|     JPY|FLIGHT244|           YCQFNE|    2013|        7|      1|\n",
      "|   TRANS000002|   CUST0008|  2023-07-01 09:28:36|218.85|     AUD|FLIGHT216|           MHT3NF|    2013|        7|      1|\n",
      "|   TRANS000003|   CUST0014|  2023-07-01 11:03:03|386.81|     JPY|FLIGHT283|           O2XX7D|    2013|        7|      1|\n",
      "|   TRANS000004|   CUST0017|  2023-07-01 03:05:35|124.76|     EUR|FLIGHT383|           EERBGZ|    2013|        7|      1|\n",
      "|   TRANS000005|   CUST0011|  2023-07-01 20:54:31| 716.0|     USD|FLIGHT880|           299JQ9|    2013|        7|      1|\n",
      "|   TRANS000006|   CUST0010|  2023-07-01 10:13:58|323.22|     GBP|FLIGHT594|           NN6EKT|    2013|        7|      1|\n",
      "|   TRANS000007|   CUST0002|  2023-07-01 17:02:26|663.38|     JPY|FLIGHT786|           GZMGEY|    2013|        7|      1|\n",
      "|   TRANS000008|   CUST0001|  2023-07-01 22:31:49| 89.29|     AUD|FLIGHT934|           HHBZAP|    2013|        7|      1|\n",
      "|   TRANS000009|   CUST0002|  2023-07-01 06:22:59|896.51|     GBP|FLIGHT725|           JYUH3J|    2013|        7|      1|\n",
      "|   TRANS000010|   CUST0006|  2023-07-01 22:56:22| 401.8|     JPY|FLIGHT371|           7VAEH2|    2013|        7|      1|\n",
      "|   TRANS000011|   CUST0015|  2023-07-01 05:37:55| 73.12|     AUD|FLIGHT805|           DEULH5|    2013|        7|      1|\n",
      "|   TRANS000012|   CUST0013|  2023-07-01 17:03:14|189.62|     EUR|FLIGHT793|           9XAB4A|    2013|        7|      1|\n",
      "|   TRANS000013|   CUST0019|  2023-07-01 10:03:18|923.72|     AUD|FLIGHT426|           3QCJJF|    2013|        7|      1|\n",
      "|   TRANS000014|   CUST0002|  2023-07-01 12:10:07|954.73|     USD|FLIGHT609|           8AER1B|    2013|        7|      1|\n",
      "|   TRANS000015|   CUST0008|  2023-07-01 23:04:34|402.07|     JPY|FLIGHT628|           PI2XJS|    2013|        7|      1|\n",
      "|   TRANS000016|   CUST0013|  2023-07-01 09:02:50| 60.69|     JPY|FLIGHT801|           CPEHII|    2013|        7|      1|\n",
      "|   TRANS000017|   CUST0011|  2023-07-01 14:10:01|104.97|     JPY|FLIGHT948|           MI3M25|    2013|        7|      1|\n",
      "|   TRANS000018|   CUST0018|  2023-07-01 17:20:30| 379.2|     GBP|FLIGHT159|           IZV94U|    2013|        7|      1|\n",
      "|   TRANS000019|   CUST0004|  2023-07-01 22:24:29|395.28|     EUR|FLIGHT939|           RYBI4C|    2013|        7|      1|\n",
      "|   TRANS000020|   CUST0007|  2023-07-01 10:01:50|332.89|     JPY|FLIGHT475|           6LK1KI|    2013|        7|      1|\n",
      "+--------------+-----------+---------------------+------+--------+---------+-----------------+--------+---------+-------+\n",
      "only showing top 20 rows\n",
      "\n"
     ]
    }
   ],
   "source": [
    "staging_df.show()"
   ]
  },
  {
   "cell_type": "code",
   "execution_count": 17,
   "id": "44745c67-a2f7-44ec-ba75-257af78fa8ef",
   "metadata": {},
   "outputs": [],
   "source": [
    "#staging_df = staging_df.withColumn('operation_date',F.to_date(staging_df.operation_date_str,'yyyyMMdd').alias('operation_date'))\n",
    "#staging_df.show()"
   ]
  },
  {
   "cell_type": "markdown",
   "id": "26c7d5fc-5431-4eff-bc42-c3a7893cdb8f",
   "metadata": {},
   "source": [
    "Dataquality"
   ]
  },
  {
   "cell_type": "code",
   "execution_count": 18,
   "id": "930f7896-1466-4b2c-ae87-025925ee9830",
   "metadata": {},
   "outputs": [
    {
     "data": {
      "text/plain": [
       "['transaction_id',\n",
       " 'customer_id',\n",
       " 'transaction_timestamp',\n",
       " 'price',\n",
       " 'currency',\n",
       " 'flight_id',\n",
       " 'booking_reference',\n",
       " 'year_ptt',\n",
       " 'month_ptt',\n",
       " 'day_ptt']"
      ]
     },
     "execution_count": 18,
     "metadata": {},
     "output_type": "execute_result"
    }
   ],
   "source": [
    "[c for c in staging_df.columns]"
   ]
  },
  {
   "cell_type": "code",
   "execution_count": 19,
   "id": "00bd4162-285f-41a7-b049-669c54ec778e",
   "metadata": {},
   "outputs": [
    {
     "name": "stdout",
     "output_type": "stream",
     "text": [
      "+--------------+-----------+---------------------+-----+--------+---------+-----------------+--------+---------+-------+\n",
      "|transaction_id|customer_id|transaction_timestamp|price|currency|flight_id|booking_reference|year_ptt|month_ptt|day_ptt|\n",
      "+--------------+-----------+---------------------+-----+--------+---------+-----------------+--------+---------+-------+\n",
      "|             0|          0|                    0|    0|       0|        0|                0|       0|        0|      0|\n",
      "+--------------+-----------+---------------------+-----+--------+---------+-----------------+--------+---------+-------+\n",
      "\n"
     ]
    }
   ],
   "source": [
    "#Search for null values\n",
    "staging_df.select([F.count(F.when(F.isnull(c), c)).alias(c) for c in staging_df.columns]).show()"
   ]
  },
  {
   "cell_type": "code",
   "execution_count": 20,
   "id": "c4c7a44f-bce0-4a7a-9d61-cc4cb6462a1c",
   "metadata": {},
   "outputs": [],
   "source": [
    "#Search for duplicates\n",
    "df_count = staging_df.count()"
   ]
  },
  {
   "cell_type": "code",
   "execution_count": 21,
   "id": "7fb2d800-8097-4116-8583-ae85c0871c5f",
   "metadata": {},
   "outputs": [],
   "source": [
    "df_distinct_count = staging_df.distinct().count()"
   ]
  },
  {
   "cell_type": "code",
   "execution_count": 22,
   "id": "5d361f66-1554-40db-a6e2-cdee6c71116e",
   "metadata": {},
   "outputs": [],
   "source": [
    "duplicates = df_count-df_distinct_count\n",
    "assert duplicates == 0, f\"There are {duplicates} records duplicate\""
   ]
  },
  {
   "cell_type": "code",
   "execution_count": 23,
   "id": "baea822b-7d87-4a97-ab1e-a684fa9cb5c2",
   "metadata": {},
   "outputs": [],
   "source": [
    "#Format validation"
   ]
  },
  {
   "cell_type": "code",
   "execution_count": 24,
   "id": "59b8c165-2512-4f40-a3ee-0ae0b6a48fb3",
   "metadata": {},
   "outputs": [],
   "source": [
    "transaction_id_format_error_df = staging_df.select(F.count(F.when(~F.col('transaction_id').rlike(r'TRANS\\d{6}'), True)).alias('count'))"
   ]
  },
  {
   "cell_type": "code",
   "execution_count": 25,
   "id": "df6de96f-2049-46af-8226-56dc12e3f5cd",
   "metadata": {},
   "outputs": [],
   "source": [
    "transaction_id_format_error_count = transaction_id_format_error_df.collect()[0][0]\n",
    "assert transaction_id_format_error_count == 0,f\"transaction_id invalid format count={transaction_id_format_error_count}\""
   ]
  },
  {
   "cell_type": "markdown",
   "id": "9b89504d-d20f-4f2a-a5ba-7097ca3b2318",
   "metadata": {},
   "source": [
    "Creation of the final DataFrame with the correct schema"
   ]
  },
  {
   "cell_type": "code",
   "execution_count": 26,
   "id": "54e6d8f0-fcba-499d-8edf-2802a238957e",
   "metadata": {},
   "outputs": [],
   "source": [
    "staging_df_schema = StructType([\n",
    "    StructField(\"transaction_id\", StringType(), nullable=False),\n",
    "    StructField(\"customer_id\", StringType(), nullable=False),\n",
    "    StructField(\"transaction_timestamp\", StringType(), nullable=False),\n",
    "    StructField(\"price\", StringType(), nullable=False),\n",
    "    StructField(\"currency\", StringType(), nullable=False),\n",
    "    StructField(\"flight_id\", StringType(), nullable=False),\n",
    "    StructField(\"booking_reference\", StringType(), nullable=True),\n",
    "    StructField(\"year_ptt\", IntegerType(), nullable=False),\n",
    "    StructField(\"month_ptt\", IntegerType(), nullable=False),\n",
    "    StructField(\"day_ptt\", IntegerType(), nullable=False)\n",
    "])"
   ]
  },
  {
   "cell_type": "code",
   "execution_count": 27,
   "id": "8a2dded7-f3d1-4317-9a14-69c59be02ee9",
   "metadata": {},
   "outputs": [],
   "source": [
    "final_staging_df = spark.createDataFrame(staging_df.collect(),schema=staging_df_schema)"
   ]
  },
  {
   "cell_type": "code",
   "execution_count": 28,
   "id": "e0264c02-3b17-4c4a-be08-7dfc17d0c6d4",
   "metadata": {},
   "outputs": [
    {
     "name": "stdout",
     "output_type": "stream",
     "text": [
      "root\n",
      " |-- transaction_id: string (nullable = false)\n",
      " |-- customer_id: string (nullable = false)\n",
      " |-- transaction_timestamp: string (nullable = false)\n",
      " |-- price: string (nullable = false)\n",
      " |-- currency: string (nullable = false)\n",
      " |-- flight_id: string (nullable = false)\n",
      " |-- booking_reference: string (nullable = true)\n",
      " |-- year_ptt: integer (nullable = false)\n",
      " |-- month_ptt: integer (nullable = false)\n",
      " |-- day_ptt: integer (nullable = false)\n",
      "\n"
     ]
    }
   ],
   "source": [
    "final_staging_df.printSchema()"
   ]
  },
  {
   "cell_type": "code",
   "execution_count": 29,
   "id": "5e32620b-8fff-428e-8811-a8cc4c60e1e4",
   "metadata": {},
   "outputs": [
    {
     "name": "stdout",
     "output_type": "stream",
     "text": [
      "+--------------+-----------+---------------------+------+--------+---------+-----------------+--------+---------+-------+\n",
      "|transaction_id|customer_id|transaction_timestamp| price|currency|flight_id|booking_reference|year_ptt|month_ptt|day_ptt|\n",
      "+--------------+-----------+---------------------+------+--------+---------+-----------------+--------+---------+-------+\n",
      "|   TRANS000001|   CUST0011|  2023-07-01 06:24:38| 94.42|     JPY|FLIGHT244|           YCQFNE|    2013|        7|      1|\n",
      "|   TRANS000002|   CUST0008|  2023-07-01 09:28:36|218.85|     AUD|FLIGHT216|           MHT3NF|    2013|        7|      1|\n",
      "|   TRANS000003|   CUST0014|  2023-07-01 11:03:03|386.81|     JPY|FLIGHT283|           O2XX7D|    2013|        7|      1|\n",
      "|   TRANS000004|   CUST0017|  2023-07-01 03:05:35|124.76|     EUR|FLIGHT383|           EERBGZ|    2013|        7|      1|\n",
      "|   TRANS000005|   CUST0011|  2023-07-01 20:54:31| 716.0|     USD|FLIGHT880|           299JQ9|    2013|        7|      1|\n",
      "|   TRANS000006|   CUST0010|  2023-07-01 10:13:58|323.22|     GBP|FLIGHT594|           NN6EKT|    2013|        7|      1|\n",
      "|   TRANS000007|   CUST0002|  2023-07-01 17:02:26|663.38|     JPY|FLIGHT786|           GZMGEY|    2013|        7|      1|\n",
      "|   TRANS000008|   CUST0001|  2023-07-01 22:31:49| 89.29|     AUD|FLIGHT934|           HHBZAP|    2013|        7|      1|\n",
      "|   TRANS000009|   CUST0002|  2023-07-01 06:22:59|896.51|     GBP|FLIGHT725|           JYUH3J|    2013|        7|      1|\n",
      "|   TRANS000010|   CUST0006|  2023-07-01 22:56:22| 401.8|     JPY|FLIGHT371|           7VAEH2|    2013|        7|      1|\n",
      "|   TRANS000011|   CUST0015|  2023-07-01 05:37:55| 73.12|     AUD|FLIGHT805|           DEULH5|    2013|        7|      1|\n",
      "|   TRANS000012|   CUST0013|  2023-07-01 17:03:14|189.62|     EUR|FLIGHT793|           9XAB4A|    2013|        7|      1|\n",
      "|   TRANS000013|   CUST0019|  2023-07-01 10:03:18|923.72|     AUD|FLIGHT426|           3QCJJF|    2013|        7|      1|\n",
      "|   TRANS000014|   CUST0002|  2023-07-01 12:10:07|954.73|     USD|FLIGHT609|           8AER1B|    2013|        7|      1|\n",
      "|   TRANS000015|   CUST0008|  2023-07-01 23:04:34|402.07|     JPY|FLIGHT628|           PI2XJS|    2013|        7|      1|\n",
      "|   TRANS000016|   CUST0013|  2023-07-01 09:02:50| 60.69|     JPY|FLIGHT801|           CPEHII|    2013|        7|      1|\n",
      "|   TRANS000017|   CUST0011|  2023-07-01 14:10:01|104.97|     JPY|FLIGHT948|           MI3M25|    2013|        7|      1|\n",
      "|   TRANS000018|   CUST0018|  2023-07-01 17:20:30| 379.2|     GBP|FLIGHT159|           IZV94U|    2013|        7|      1|\n",
      "|   TRANS000019|   CUST0004|  2023-07-01 22:24:29|395.28|     EUR|FLIGHT939|           RYBI4C|    2013|        7|      1|\n",
      "|   TRANS000020|   CUST0007|  2023-07-01 10:01:50|332.89|     JPY|FLIGHT475|           6LK1KI|    2013|        7|      1|\n",
      "+--------------+-----------+---------------------+------+--------+---------+-----------------+--------+---------+-------+\n",
      "only showing top 20 rows\n",
      "\n"
     ]
    }
   ],
   "source": [
    "final_staging_df.show()"
   ]
  },
  {
   "cell_type": "markdown",
   "id": "a9bdd336-8dd9-45e4-a15e-0998db4d7bde",
   "metadata": {},
   "source": [
    "Write option 1: Spark DataFrame method"
   ]
  },
  {
   "cell_type": "code",
   "execution_count": 30,
   "id": "3f7fb5bf-9642-408b-81f9-e0d50c2b513e",
   "metadata": {},
   "outputs": [],
   "source": [
    "sales_tb = f\"{catalog_nm}.{sales_table_nm}\"\n",
    "final_staging_df.writeTo(sales_tb).overwritePartitions()\n",
    "#final_staging_df.writeTo(sales_tb).append()"
   ]
  },
  {
   "cell_type": "code",
   "execution_count": 31,
   "id": "a2c63ba0-2d46-4fee-abc7-891333d3dd0c",
   "metadata": {},
   "outputs": [
    {
     "name": "stdout",
     "output_type": "stream",
     "text": [
      "+--------------+-----------+---------------------+------+--------+---------+-----------------+--------+---------+-------+\n",
      "|transaction_id|customer_id|transaction_timestamp| price|currency|flight_id|booking_reference|year_ptt|month_ptt|day_ptt|\n",
      "+--------------+-----------+---------------------+------+--------+---------+-----------------+--------+---------+-------+\n",
      "|   TRANS000001|   CUST0011|  2023-07-01 06:24:38| 94.42|     JPY|FLIGHT244|           YCQFNE|    2013|        7|      1|\n",
      "|   TRANS000002|   CUST0008|  2023-07-01 09:28:36|218.85|     AUD|FLIGHT216|           MHT3NF|    2013|        7|      1|\n",
      "|   TRANS000003|   CUST0014|  2023-07-01 11:03:03|386.81|     JPY|FLIGHT283|           O2XX7D|    2013|        7|      1|\n",
      "|   TRANS000004|   CUST0017|  2023-07-01 03:05:35|124.76|     EUR|FLIGHT383|           EERBGZ|    2013|        7|      1|\n",
      "|   TRANS000005|   CUST0011|  2023-07-01 20:54:31| 716.0|     USD|FLIGHT880|           299JQ9|    2013|        7|      1|\n",
      "|   TRANS000006|   CUST0010|  2023-07-01 10:13:58|323.22|     GBP|FLIGHT594|           NN6EKT|    2013|        7|      1|\n",
      "|   TRANS000007|   CUST0002|  2023-07-01 17:02:26|663.38|     JPY|FLIGHT786|           GZMGEY|    2013|        7|      1|\n",
      "|   TRANS000008|   CUST0001|  2023-07-01 22:31:49| 89.29|     AUD|FLIGHT934|           HHBZAP|    2013|        7|      1|\n",
      "|   TRANS000009|   CUST0002|  2023-07-01 06:22:59|896.51|     GBP|FLIGHT725|           JYUH3J|    2013|        7|      1|\n",
      "|   TRANS000010|   CUST0006|  2023-07-01 22:56:22| 401.8|     JPY|FLIGHT371|           7VAEH2|    2013|        7|      1|\n",
      "+--------------+-----------+---------------------+------+--------+---------+-----------------+--------+---------+-------+\n",
      "\n"
     ]
    }
   ],
   "source": [
    "spark.sql(\n",
    "    f\"\"\"\n",
    "    SELECT * \n",
    "    FROM {sales_tb}\n",
    "    LIMIT 10;\n",
    "    \"\"\"\n",
    ").show()"
   ]
  },
  {
   "cell_type": "code",
   "execution_count": 32,
   "id": "6d312310-0c96-421c-8430-6e67598eefd1",
   "metadata": {},
   "outputs": [
    {
     "name": "stdout",
     "output_type": "stream",
     "text": [
      "+--------+\n",
      "|count(1)|\n",
      "+--------+\n",
      "|     100|\n",
      "+--------+\n",
      "\n"
     ]
    }
   ],
   "source": [
    "spark.sql(\n",
    "    f\"\"\"\n",
    "    SELECT COUNT(*) \n",
    "    FROM {catalog_nm}.{sales_table_nm};\n",
    "    \"\"\"\n",
    ").show()"
   ]
  },
  {
   "cell_type": "markdown",
   "id": "60a98bdc-2344-4018-bbd7-276504544187",
   "metadata": {},
   "source": [
    "Write option 2: Spark SQL (UPSERT)"
   ]
  },
  {
   "cell_type": "code",
   "execution_count": 33,
   "id": "556a3503-2b24-498f-8dee-58e8740ca4de",
   "metadata": {},
   "outputs": [],
   "source": [
    "#Create a temporary view for the dataframe\n",
    "staging_df_view = \"staging_df\"\n",
    "final_staging_df.createOrReplaceTempView(staging_df_view)"
   ]
  },
  {
   "cell_type": "code",
   "execution_count": 34,
   "id": "758fa333-de17-4a6a-9435-2e4a8b7a4428",
   "metadata": {},
   "outputs": [
    {
     "name": "stdout",
     "output_type": "stream",
     "text": [
      "+--------------+-----------+---------------------+------+--------+---------+-----------------+--------+---------+-------+\n",
      "|transaction_id|customer_id|transaction_timestamp| price|currency|flight_id|booking_reference|year_ptt|month_ptt|day_ptt|\n",
      "+--------------+-----------+---------------------+------+--------+---------+-----------------+--------+---------+-------+\n",
      "|   TRANS000001|   CUST0011|  2023-07-01 06:24:38| 94.42|     JPY|FLIGHT244|           YCQFNE|    2013|        7|      1|\n",
      "|   TRANS000002|   CUST0008|  2023-07-01 09:28:36|218.85|     AUD|FLIGHT216|           MHT3NF|    2013|        7|      1|\n",
      "|   TRANS000003|   CUST0014|  2023-07-01 11:03:03|386.81|     JPY|FLIGHT283|           O2XX7D|    2013|        7|      1|\n",
      "|   TRANS000004|   CUST0017|  2023-07-01 03:05:35|124.76|     EUR|FLIGHT383|           EERBGZ|    2013|        7|      1|\n",
      "|   TRANS000005|   CUST0011|  2023-07-01 20:54:31| 716.0|     USD|FLIGHT880|           299JQ9|    2013|        7|      1|\n",
      "|   TRANS000006|   CUST0010|  2023-07-01 10:13:58|323.22|     GBP|FLIGHT594|           NN6EKT|    2013|        7|      1|\n",
      "|   TRANS000007|   CUST0002|  2023-07-01 17:02:26|663.38|     JPY|FLIGHT786|           GZMGEY|    2013|        7|      1|\n",
      "|   TRANS000008|   CUST0001|  2023-07-01 22:31:49| 89.29|     AUD|FLIGHT934|           HHBZAP|    2013|        7|      1|\n",
      "|   TRANS000009|   CUST0002|  2023-07-01 06:22:59|896.51|     GBP|FLIGHT725|           JYUH3J|    2013|        7|      1|\n",
      "|   TRANS000010|   CUST0006|  2023-07-01 22:56:22| 401.8|     JPY|FLIGHT371|           7VAEH2|    2013|        7|      1|\n",
      "|   TRANS000011|   CUST0015|  2023-07-01 05:37:55| 73.12|     AUD|FLIGHT805|           DEULH5|    2013|        7|      1|\n",
      "|   TRANS000012|   CUST0013|  2023-07-01 17:03:14|189.62|     EUR|FLIGHT793|           9XAB4A|    2013|        7|      1|\n",
      "|   TRANS000013|   CUST0019|  2023-07-01 10:03:18|923.72|     AUD|FLIGHT426|           3QCJJF|    2013|        7|      1|\n",
      "|   TRANS000014|   CUST0002|  2023-07-01 12:10:07|954.73|     USD|FLIGHT609|           8AER1B|    2013|        7|      1|\n",
      "|   TRANS000015|   CUST0008|  2023-07-01 23:04:34|402.07|     JPY|FLIGHT628|           PI2XJS|    2013|        7|      1|\n",
      "|   TRANS000016|   CUST0013|  2023-07-01 09:02:50| 60.69|     JPY|FLIGHT801|           CPEHII|    2013|        7|      1|\n",
      "|   TRANS000017|   CUST0011|  2023-07-01 14:10:01|104.97|     JPY|FLIGHT948|           MI3M25|    2013|        7|      1|\n",
      "|   TRANS000018|   CUST0018|  2023-07-01 17:20:30| 379.2|     GBP|FLIGHT159|           IZV94U|    2013|        7|      1|\n",
      "|   TRANS000019|   CUST0004|  2023-07-01 22:24:29|395.28|     EUR|FLIGHT939|           RYBI4C|    2013|        7|      1|\n",
      "|   TRANS000020|   CUST0007|  2023-07-01 10:01:50|332.89|     JPY|FLIGHT475|           6LK1KI|    2013|        7|      1|\n",
      "+--------------+-----------+---------------------+------+--------+---------+-----------------+--------+---------+-------+\n",
      "only showing top 20 rows\n",
      "\n"
     ]
    }
   ],
   "source": [
    "#show dataframe contents using Spark SQL\n",
    "spark.sql(\n",
    "    f\"\"\"\n",
    "    SELECT * \n",
    "    FROM {staging_df_view};\n",
    "    \"\"\"\n",
    ").show()"
   ]
  },
  {
   "cell_type": "code",
   "execution_count": 35,
   "id": "68286cc6-d3ab-4ec9-8283-7d17ccef5224",
   "metadata": {},
   "outputs": [
    {
     "ename": "Py4JJavaError",
     "evalue": "An error occurred while calling o39.sql.\n: org.apache.spark.SparkUnsupportedOperationException: MERGE INTO TABLE is not supported temporarily.\r\n\tat org.apache.spark.sql.errors.QueryExecutionErrors$.ddlUnsupportedTemporarilyError(QueryExecutionErrors.scala:1109)\r\n\tat org.apache.spark.sql.execution.SparkStrategies$BasicOperators$.apply(SparkStrategies.scala:898)\r\n\tat org.apache.spark.sql.catalyst.planning.QueryPlanner.$anonfun$plan$1(QueryPlanner.scala:63)\r\n\tat scala.collection.Iterator$$anon$11.nextCur(Iterator.scala:486)\r\n\tat scala.collection.Iterator$$anon$11.hasNext(Iterator.scala:492)\r\n\tat scala.collection.Iterator$$anon$11.hasNext(Iterator.scala:491)\r\n\tat org.apache.spark.sql.catalyst.planning.QueryPlanner.plan(QueryPlanner.scala:93)\r\n\tat org.apache.spark.sql.execution.SparkStrategies.plan(SparkStrategies.scala:70)\r\n\tat org.apache.spark.sql.catalyst.planning.QueryPlanner.$anonfun$plan$3(QueryPlanner.scala:78)\r\n\tat scala.collection.TraversableOnce$folder$1.apply(TraversableOnce.scala:196)\r\n\tat scala.collection.TraversableOnce$folder$1.apply(TraversableOnce.scala:194)\r\n\tat scala.collection.Iterator.foreach(Iterator.scala:943)\r\n\tat scala.collection.Iterator.foreach$(Iterator.scala:943)\r\n\tat scala.collection.AbstractIterator.foreach(Iterator.scala:1431)\r\n\tat scala.collection.TraversableOnce.foldLeft(TraversableOnce.scala:199)\r\n\tat scala.collection.TraversableOnce.foldLeft$(TraversableOnce.scala:192)\r\n\tat scala.collection.AbstractIterator.foldLeft(Iterator.scala:1431)\r\n\tat org.apache.spark.sql.catalyst.planning.QueryPlanner.$anonfun$plan$2(QueryPlanner.scala:75)\r\n\tat scala.collection.Iterator$$anon$11.nextCur(Iterator.scala:486)\r\n\tat scala.collection.Iterator$$anon$11.hasNext(Iterator.scala:492)\r\n\tat org.apache.spark.sql.catalyst.planning.QueryPlanner.plan(QueryPlanner.scala:93)\r\n\tat org.apache.spark.sql.execution.SparkStrategies.plan(SparkStrategies.scala:70)\r\n\tat org.apache.spark.sql.execution.QueryExecution$.createSparkPlan(QueryExecution.scala:476)\r\n\tat org.apache.spark.sql.execution.QueryExecution.$anonfun$sparkPlan$1(QueryExecution.scala:162)\r\n\tat org.apache.spark.sql.catalyst.QueryPlanningTracker.measurePhase(QueryPlanningTracker.scala:111)\r\n\tat org.apache.spark.sql.execution.QueryExecution.$anonfun$executePhase$2(QueryExecution.scala:202)\r\n\tat org.apache.spark.sql.execution.QueryExecution$.withInternalError(QueryExecution.scala:526)\r\n\tat org.apache.spark.sql.execution.QueryExecution.$anonfun$executePhase$1(QueryExecution.scala:202)\r\n\tat org.apache.spark.sql.SparkSession.withActive(SparkSession.scala:827)\r\n\tat org.apache.spark.sql.execution.QueryExecution.executePhase(QueryExecution.scala:201)\r\n\tat org.apache.spark.sql.execution.QueryExecution.sparkPlan$lzycompute(QueryExecution.scala:162)\r\n\tat org.apache.spark.sql.execution.QueryExecution.sparkPlan(QueryExecution.scala:155)\r\n\tat org.apache.spark.sql.execution.QueryExecution.$anonfun$executedPlan$1(QueryExecution.scala:175)\r\n\tat org.apache.spark.sql.catalyst.QueryPlanningTracker.measurePhase(QueryPlanningTracker.scala:111)\r\n\tat org.apache.spark.sql.execution.QueryExecution.$anonfun$executePhase$2(QueryExecution.scala:202)\r\n\tat org.apache.spark.sql.execution.QueryExecution$.withInternalError(QueryExecution.scala:526)\r\n\tat org.apache.spark.sql.execution.QueryExecution.$anonfun$executePhase$1(QueryExecution.scala:202)\r\n\tat org.apache.spark.sql.SparkSession.withActive(SparkSession.scala:827)\r\n\tat org.apache.spark.sql.execution.QueryExecution.executePhase(QueryExecution.scala:201)\r\n\tat org.apache.spark.sql.execution.QueryExecution.executedPlan$lzycompute(QueryExecution.scala:175)\r\n\tat org.apache.spark.sql.execution.QueryExecution.executedPlan(QueryExecution.scala:168)\r\n\tat org.apache.spark.sql.execution.QueryExecution.simpleString(QueryExecution.scala:221)\r\n\tat org.apache.spark.sql.execution.QueryExecution.org$apache$spark$sql$execution$QueryExecution$$explainString(QueryExecution.scala:266)\r\n\tat org.apache.spark.sql.execution.QueryExecution.explainString(QueryExecution.scala:235)\r\n\tat org.apache.spark.sql.execution.SQLExecution$.$anonfun$withNewExecutionId$6(SQLExecution.scala:112)\r\n\tat org.apache.spark.sql.execution.SQLExecution$.withSQLConfPropagated(SQLExecution.scala:195)\r\n\tat org.apache.spark.sql.execution.SQLExecution$.$anonfun$withNewExecutionId$1(SQLExecution.scala:103)\r\n\tat org.apache.spark.sql.SparkSession.withActive(SparkSession.scala:827)\r\n\tat org.apache.spark.sql.execution.SQLExecution$.withNewExecutionId(SQLExecution.scala:65)\r\n\tat org.apache.spark.sql.execution.QueryExecution$$anonfun$eagerlyExecuteCommands$1.applyOrElse(QueryExecution.scala:98)\r\n\tat org.apache.spark.sql.execution.QueryExecution$$anonfun$eagerlyExecuteCommands$1.applyOrElse(QueryExecution.scala:94)\r\n\tat org.apache.spark.sql.catalyst.trees.TreeNode.$anonfun$transformDownWithPruning$1(TreeNode.scala:512)\r\n\tat org.apache.spark.sql.catalyst.trees.CurrentOrigin$.withOrigin(TreeNode.scala:104)\r\n\tat org.apache.spark.sql.catalyst.trees.TreeNode.transformDownWithPruning(TreeNode.scala:512)\r\n\tat org.apache.spark.sql.catalyst.plans.logical.LogicalPlan.org$apache$spark$sql$catalyst$plans$logical$AnalysisHelper$$super$transformDownWithPruning(LogicalPlan.scala:31)\r\n\tat org.apache.spark.sql.catalyst.plans.logical.AnalysisHelper.transformDownWithPruning(AnalysisHelper.scala:267)\r\n\tat org.apache.spark.sql.catalyst.plans.logical.AnalysisHelper.transformDownWithPruning$(AnalysisHelper.scala:263)\r\n\tat org.apache.spark.sql.catalyst.plans.logical.LogicalPlan.transformDownWithPruning(LogicalPlan.scala:31)\r\n\tat org.apache.spark.sql.catalyst.plans.logical.LogicalPlan.transformDownWithPruning(LogicalPlan.scala:31)\r\n\tat org.apache.spark.sql.catalyst.trees.TreeNode.transformDown(TreeNode.scala:488)\r\n\tat org.apache.spark.sql.execution.QueryExecution.eagerlyExecuteCommands(QueryExecution.scala:94)\r\n\tat org.apache.spark.sql.execution.QueryExecution.commandExecuted$lzycompute(QueryExecution.scala:81)\r\n\tat org.apache.spark.sql.execution.QueryExecution.commandExecuted(QueryExecution.scala:79)\r\n\tat org.apache.spark.sql.Dataset.<init>(Dataset.scala:219)\r\n\tat org.apache.spark.sql.Dataset$.$anonfun$ofRows$2(Dataset.scala:99)\r\n\tat org.apache.spark.sql.SparkSession.withActive(SparkSession.scala:827)\r\n\tat org.apache.spark.sql.Dataset$.ofRows(Dataset.scala:96)\r\n\tat org.apache.spark.sql.SparkSession.$anonfun$sql$1(SparkSession.scala:640)\r\n\tat org.apache.spark.sql.SparkSession.withActive(SparkSession.scala:827)\r\n\tat org.apache.spark.sql.SparkSession.sql(SparkSession.scala:630)\r\n\tat org.apache.spark.sql.SparkSession.sql(SparkSession.scala:662)\r\n\tat java.base/jdk.internal.reflect.NativeMethodAccessorImpl.invoke0(Native Method)\r\n\tat java.base/jdk.internal.reflect.NativeMethodAccessorImpl.invoke(NativeMethodAccessorImpl.java:62)\r\n\tat java.base/jdk.internal.reflect.DelegatingMethodAccessorImpl.invoke(DelegatingMethodAccessorImpl.java:43)\r\n\tat java.base/java.lang.reflect.Method.invoke(Method.java:566)\r\n\tat py4j.reflection.MethodInvoker.invoke(MethodInvoker.java:244)\r\n\tat py4j.reflection.ReflectionEngine.invoke(ReflectionEngine.java:374)\r\n\tat py4j.Gateway.invoke(Gateway.java:282)\r\n\tat py4j.commands.AbstractCommand.invokeMethod(AbstractCommand.java:132)\r\n\tat py4j.commands.CallCommand.execute(CallCommand.java:79)\r\n\tat py4j.ClientServerConnection.waitForCommands(ClientServerConnection.java:182)\r\n\tat py4j.ClientServerConnection.run(ClientServerConnection.java:106)\r\n\tat java.base/java.lang.Thread.run(Thread.java:829)\r\n",
     "output_type": "error",
     "traceback": [
      "\u001b[1;31m---------------------------------------------------------------------------\u001b[0m",
      "\u001b[1;31mPy4JJavaError\u001b[0m                             Traceback (most recent call last)",
      "Cell \u001b[1;32mIn[35], line 2\u001b[0m\n\u001b[0;32m      1\u001b[0m \u001b[38;5;66;03m#Upsert\u001b[39;00m\n\u001b[1;32m----> 2\u001b[0m \u001b[43mspark\u001b[49m\u001b[38;5;241;43m.\u001b[39;49m\u001b[43msql\u001b[49m\u001b[43m(\u001b[49m\n\u001b[0;32m      3\u001b[0m \u001b[43m    \u001b[49m\u001b[38;5;124;43mf\u001b[39;49m\u001b[38;5;124;43m\"\"\"\u001b[39;49m\n\u001b[0;32m      4\u001b[0m \u001b[38;5;124;43m    MERGE INTO \u001b[39;49m\u001b[38;5;132;43;01m{\u001b[39;49;00m\u001b[43mcatalog_nm\u001b[49m\u001b[38;5;132;43;01m}\u001b[39;49;00m\u001b[38;5;124;43m.\u001b[39;49m\u001b[38;5;132;43;01m{\u001b[39;49;00m\u001b[43msales_table_nm\u001b[49m\u001b[38;5;132;43;01m}\u001b[39;49;00m\u001b[38;5;124;43m AS t\u001b[39;49m\n\u001b[0;32m      5\u001b[0m \u001b[38;5;124;43m    USING (SELECT * FROM \u001b[39;49m\u001b[38;5;132;43;01m{\u001b[39;49;00m\u001b[43mstaging_df_view\u001b[49m\u001b[38;5;132;43;01m}\u001b[39;49;00m\u001b[38;5;124;43m) AS s\u001b[39;49m\n\u001b[0;32m      6\u001b[0m \u001b[38;5;124;43m    ON s.transaction_id = t.transaction_id\u001b[39;49m\n\u001b[0;32m      7\u001b[0m \u001b[38;5;124;43m        AND t.year_ptt = \u001b[39;49m\u001b[38;5;132;43;01m{\u001b[39;49;00m\u001b[43myear_ptt\u001b[49m\u001b[38;5;132;43;01m}\u001b[39;49;00m\u001b[38;5;124;43m    --push down filters\u001b[39;49m\n\u001b[0;32m      8\u001b[0m \u001b[38;5;124;43m        AND t.month_ptt = \u001b[39;49m\u001b[38;5;132;43;01m{\u001b[39;49;00m\u001b[43mmonth_ptt\u001b[49m\u001b[38;5;132;43;01m}\u001b[39;49;00m\n\u001b[0;32m      9\u001b[0m \u001b[38;5;124;43m        AND t.day_ptt = \u001b[39;49m\u001b[38;5;132;43;01m{\u001b[39;49;00m\u001b[43mday_ptt\u001b[49m\u001b[38;5;132;43;01m}\u001b[39;49;00m\n\u001b[0;32m     10\u001b[0m \u001b[38;5;124;43m    WHEN MATCHED THEN\u001b[39;49m\n\u001b[0;32m     11\u001b[0m \u001b[38;5;124;43m        UPDATE SET\u001b[39;49m\n\u001b[0;32m     12\u001b[0m \u001b[38;5;124;43m           t.customer_id = s.customer_id,\u001b[39;49m\n\u001b[0;32m     13\u001b[0m \u001b[38;5;124;43m           t.transaction_timestamp = s.transaction_timestamp,\u001b[39;49m\n\u001b[0;32m     14\u001b[0m \u001b[38;5;124;43m           t.price = s.price,\u001b[39;49m\n\u001b[0;32m     15\u001b[0m \u001b[38;5;124;43m           t.currency = s.currency,\u001b[39;49m\n\u001b[0;32m     16\u001b[0m \u001b[38;5;124;43m           t.flight_id = s.flight_id,\u001b[39;49m\n\u001b[0;32m     17\u001b[0m \u001b[38;5;124;43m           t.booking_reference = s.booking_reference,\u001b[39;49m\n\u001b[0;32m     18\u001b[0m \u001b[38;5;124;43m           t.year_ptt = s.year_ptt,\u001b[39;49m\n\u001b[0;32m     19\u001b[0m \u001b[38;5;124;43m           t.month_ptt = s.month_ptt,\u001b[39;49m\n\u001b[0;32m     20\u001b[0m \u001b[38;5;124;43m           t.day_ptt = s.day_ptt\u001b[39;49m\n\u001b[0;32m     21\u001b[0m \u001b[38;5;124;43m    WHEN NOT MATCHED BY TARGET THEN\u001b[39;49m\n\u001b[0;32m     22\u001b[0m \u001b[38;5;124;43m        INSERT(transaction_id,customer_id,transaction_timestamp,\u001b[39;49m\n\u001b[0;32m     23\u001b[0m \u001b[38;5;124;43m            price,currency,flight_id,booking_reference,year_ptt,month_ptt,day_ptt)\u001b[39;49m\n\u001b[0;32m     24\u001b[0m \u001b[38;5;124;43m        VALUES(s.transaction_id,s.customer_id,s.transaction_timestamp,\u001b[39;49m\n\u001b[0;32m     25\u001b[0m \u001b[38;5;124;43m            s.price,s.currency,s.flight_id,s.booking_reference,s.year_ptt,s.month_ptt,s.day_ptt)\u001b[39;49m\n\u001b[0;32m     26\u001b[0m \u001b[38;5;124;43m    ;\u001b[39;49m\n\u001b[0;32m     27\u001b[0m \u001b[38;5;124;43m    \u001b[39;49m\u001b[38;5;124;43m\"\"\"\u001b[39;49m\n\u001b[0;32m     28\u001b[0m \u001b[43m)\u001b[49m\n",
      "File \u001b[1;32mc:\\soft\\miniconda3\\envs\\iceberg_env\\lib\\site-packages\\pyspark\\sql\\session.py:1440\u001b[0m, in \u001b[0;36mSparkSession.sql\u001b[1;34m(self, sqlQuery, args, **kwargs)\u001b[0m\n\u001b[0;32m   1438\u001b[0m \u001b[38;5;28;01mtry\u001b[39;00m:\n\u001b[0;32m   1439\u001b[0m     litArgs \u001b[38;5;241m=\u001b[39m {k: _to_java_column(lit(v)) \u001b[38;5;28;01mfor\u001b[39;00m k, v \u001b[38;5;129;01min\u001b[39;00m (args \u001b[38;5;129;01mor\u001b[39;00m {})\u001b[38;5;241m.\u001b[39mitems()}\n\u001b[1;32m-> 1440\u001b[0m     \u001b[38;5;28;01mreturn\u001b[39;00m DataFrame(\u001b[38;5;28;43mself\u001b[39;49m\u001b[38;5;241;43m.\u001b[39;49m\u001b[43m_jsparkSession\u001b[49m\u001b[38;5;241;43m.\u001b[39;49m\u001b[43msql\u001b[49m\u001b[43m(\u001b[49m\u001b[43msqlQuery\u001b[49m\u001b[43m,\u001b[49m\u001b[43m \u001b[49m\u001b[43mlitArgs\u001b[49m\u001b[43m)\u001b[49m, \u001b[38;5;28mself\u001b[39m)\n\u001b[0;32m   1441\u001b[0m \u001b[38;5;28;01mfinally\u001b[39;00m:\n\u001b[0;32m   1442\u001b[0m     \u001b[38;5;28;01mif\u001b[39;00m \u001b[38;5;28mlen\u001b[39m(kwargs) \u001b[38;5;241m>\u001b[39m \u001b[38;5;241m0\u001b[39m:\n",
      "File \u001b[1;32mc:\\soft\\miniconda3\\envs\\iceberg_env\\lib\\site-packages\\py4j\\java_gateway.py:1322\u001b[0m, in \u001b[0;36mJavaMember.__call__\u001b[1;34m(self, *args)\u001b[0m\n\u001b[0;32m   1316\u001b[0m command \u001b[38;5;241m=\u001b[39m proto\u001b[38;5;241m.\u001b[39mCALL_COMMAND_NAME \u001b[38;5;241m+\u001b[39m\\\n\u001b[0;32m   1317\u001b[0m     \u001b[38;5;28mself\u001b[39m\u001b[38;5;241m.\u001b[39mcommand_header \u001b[38;5;241m+\u001b[39m\\\n\u001b[0;32m   1318\u001b[0m     args_command \u001b[38;5;241m+\u001b[39m\\\n\u001b[0;32m   1319\u001b[0m     proto\u001b[38;5;241m.\u001b[39mEND_COMMAND_PART\n\u001b[0;32m   1321\u001b[0m answer \u001b[38;5;241m=\u001b[39m \u001b[38;5;28mself\u001b[39m\u001b[38;5;241m.\u001b[39mgateway_client\u001b[38;5;241m.\u001b[39msend_command(command)\n\u001b[1;32m-> 1322\u001b[0m return_value \u001b[38;5;241m=\u001b[39m \u001b[43mget_return_value\u001b[49m\u001b[43m(\u001b[49m\n\u001b[0;32m   1323\u001b[0m \u001b[43m    \u001b[49m\u001b[43manswer\u001b[49m\u001b[43m,\u001b[49m\u001b[43m \u001b[49m\u001b[38;5;28;43mself\u001b[39;49m\u001b[38;5;241;43m.\u001b[39;49m\u001b[43mgateway_client\u001b[49m\u001b[43m,\u001b[49m\u001b[43m \u001b[49m\u001b[38;5;28;43mself\u001b[39;49m\u001b[38;5;241;43m.\u001b[39;49m\u001b[43mtarget_id\u001b[49m\u001b[43m,\u001b[49m\u001b[43m \u001b[49m\u001b[38;5;28;43mself\u001b[39;49m\u001b[38;5;241;43m.\u001b[39;49m\u001b[43mname\u001b[49m\u001b[43m)\u001b[49m\n\u001b[0;32m   1325\u001b[0m \u001b[38;5;28;01mfor\u001b[39;00m temp_arg \u001b[38;5;129;01min\u001b[39;00m temp_args:\n\u001b[0;32m   1326\u001b[0m     \u001b[38;5;28;01mif\u001b[39;00m \u001b[38;5;28mhasattr\u001b[39m(temp_arg, \u001b[38;5;124m\"\u001b[39m\u001b[38;5;124m_detach\u001b[39m\u001b[38;5;124m\"\u001b[39m):\n",
      "File \u001b[1;32mc:\\soft\\miniconda3\\envs\\iceberg_env\\lib\\site-packages\\pyspark\\errors\\exceptions\\captured.py:169\u001b[0m, in \u001b[0;36mcapture_sql_exception.<locals>.deco\u001b[1;34m(*a, **kw)\u001b[0m\n\u001b[0;32m    167\u001b[0m \u001b[38;5;28;01mdef\u001b[39;00m \u001b[38;5;21mdeco\u001b[39m(\u001b[38;5;241m*\u001b[39ma: Any, \u001b[38;5;241m*\u001b[39m\u001b[38;5;241m*\u001b[39mkw: Any) \u001b[38;5;241m-\u001b[39m\u001b[38;5;241m>\u001b[39m Any:\n\u001b[0;32m    168\u001b[0m     \u001b[38;5;28;01mtry\u001b[39;00m:\n\u001b[1;32m--> 169\u001b[0m         \u001b[38;5;28;01mreturn\u001b[39;00m f(\u001b[38;5;241m*\u001b[39ma, \u001b[38;5;241m*\u001b[39m\u001b[38;5;241m*\u001b[39mkw)\n\u001b[0;32m    170\u001b[0m     \u001b[38;5;28;01mexcept\u001b[39;00m Py4JJavaError \u001b[38;5;28;01mas\u001b[39;00m e:\n\u001b[0;32m    171\u001b[0m         converted \u001b[38;5;241m=\u001b[39m convert_exception(e\u001b[38;5;241m.\u001b[39mjava_exception)\n",
      "File \u001b[1;32mc:\\soft\\miniconda3\\envs\\iceberg_env\\lib\\site-packages\\py4j\\protocol.py:326\u001b[0m, in \u001b[0;36mget_return_value\u001b[1;34m(answer, gateway_client, target_id, name)\u001b[0m\n\u001b[0;32m    324\u001b[0m value \u001b[38;5;241m=\u001b[39m OUTPUT_CONVERTER[\u001b[38;5;28mtype\u001b[39m](answer[\u001b[38;5;241m2\u001b[39m:], gateway_client)\n\u001b[0;32m    325\u001b[0m \u001b[38;5;28;01mif\u001b[39;00m answer[\u001b[38;5;241m1\u001b[39m] \u001b[38;5;241m==\u001b[39m REFERENCE_TYPE:\n\u001b[1;32m--> 326\u001b[0m     \u001b[38;5;28;01mraise\u001b[39;00m Py4JJavaError(\n\u001b[0;32m    327\u001b[0m         \u001b[38;5;124m\"\u001b[39m\u001b[38;5;124mAn error occurred while calling \u001b[39m\u001b[38;5;132;01m{0}\u001b[39;00m\u001b[38;5;132;01m{1}\u001b[39;00m\u001b[38;5;132;01m{2}\u001b[39;00m\u001b[38;5;124m.\u001b[39m\u001b[38;5;130;01m\\n\u001b[39;00m\u001b[38;5;124m\"\u001b[39m\u001b[38;5;241m.\u001b[39m\n\u001b[0;32m    328\u001b[0m         \u001b[38;5;28mformat\u001b[39m(target_id, \u001b[38;5;124m\"\u001b[39m\u001b[38;5;124m.\u001b[39m\u001b[38;5;124m\"\u001b[39m, name), value)\n\u001b[0;32m    329\u001b[0m \u001b[38;5;28;01melse\u001b[39;00m:\n\u001b[0;32m    330\u001b[0m     \u001b[38;5;28;01mraise\u001b[39;00m Py4JError(\n\u001b[0;32m    331\u001b[0m         \u001b[38;5;124m\"\u001b[39m\u001b[38;5;124mAn error occurred while calling \u001b[39m\u001b[38;5;132;01m{0}\u001b[39;00m\u001b[38;5;132;01m{1}\u001b[39;00m\u001b[38;5;132;01m{2}\u001b[39;00m\u001b[38;5;124m. Trace:\u001b[39m\u001b[38;5;130;01m\\n\u001b[39;00m\u001b[38;5;132;01m{3}\u001b[39;00m\u001b[38;5;130;01m\\n\u001b[39;00m\u001b[38;5;124m\"\u001b[39m\u001b[38;5;241m.\u001b[39m\n\u001b[0;32m    332\u001b[0m         \u001b[38;5;28mformat\u001b[39m(target_id, \u001b[38;5;124m\"\u001b[39m\u001b[38;5;124m.\u001b[39m\u001b[38;5;124m\"\u001b[39m, name, value))\n",
      "\u001b[1;31mPy4JJavaError\u001b[0m: An error occurred while calling o39.sql.\n: org.apache.spark.SparkUnsupportedOperationException: MERGE INTO TABLE is not supported temporarily.\r\n\tat org.apache.spark.sql.errors.QueryExecutionErrors$.ddlUnsupportedTemporarilyError(QueryExecutionErrors.scala:1109)\r\n\tat org.apache.spark.sql.execution.SparkStrategies$BasicOperators$.apply(SparkStrategies.scala:898)\r\n\tat org.apache.spark.sql.catalyst.planning.QueryPlanner.$anonfun$plan$1(QueryPlanner.scala:63)\r\n\tat scala.collection.Iterator$$anon$11.nextCur(Iterator.scala:486)\r\n\tat scala.collection.Iterator$$anon$11.hasNext(Iterator.scala:492)\r\n\tat scala.collection.Iterator$$anon$11.hasNext(Iterator.scala:491)\r\n\tat org.apache.spark.sql.catalyst.planning.QueryPlanner.plan(QueryPlanner.scala:93)\r\n\tat org.apache.spark.sql.execution.SparkStrategies.plan(SparkStrategies.scala:70)\r\n\tat org.apache.spark.sql.catalyst.planning.QueryPlanner.$anonfun$plan$3(QueryPlanner.scala:78)\r\n\tat scala.collection.TraversableOnce$folder$1.apply(TraversableOnce.scala:196)\r\n\tat scala.collection.TraversableOnce$folder$1.apply(TraversableOnce.scala:194)\r\n\tat scala.collection.Iterator.foreach(Iterator.scala:943)\r\n\tat scala.collection.Iterator.foreach$(Iterator.scala:943)\r\n\tat scala.collection.AbstractIterator.foreach(Iterator.scala:1431)\r\n\tat scala.collection.TraversableOnce.foldLeft(TraversableOnce.scala:199)\r\n\tat scala.collection.TraversableOnce.foldLeft$(TraversableOnce.scala:192)\r\n\tat scala.collection.AbstractIterator.foldLeft(Iterator.scala:1431)\r\n\tat org.apache.spark.sql.catalyst.planning.QueryPlanner.$anonfun$plan$2(QueryPlanner.scala:75)\r\n\tat scala.collection.Iterator$$anon$11.nextCur(Iterator.scala:486)\r\n\tat scala.collection.Iterator$$anon$11.hasNext(Iterator.scala:492)\r\n\tat org.apache.spark.sql.catalyst.planning.QueryPlanner.plan(QueryPlanner.scala:93)\r\n\tat org.apache.spark.sql.execution.SparkStrategies.plan(SparkStrategies.scala:70)\r\n\tat org.apache.spark.sql.execution.QueryExecution$.createSparkPlan(QueryExecution.scala:476)\r\n\tat org.apache.spark.sql.execution.QueryExecution.$anonfun$sparkPlan$1(QueryExecution.scala:162)\r\n\tat org.apache.spark.sql.catalyst.QueryPlanningTracker.measurePhase(QueryPlanningTracker.scala:111)\r\n\tat org.apache.spark.sql.execution.QueryExecution.$anonfun$executePhase$2(QueryExecution.scala:202)\r\n\tat org.apache.spark.sql.execution.QueryExecution$.withInternalError(QueryExecution.scala:526)\r\n\tat org.apache.spark.sql.execution.QueryExecution.$anonfun$executePhase$1(QueryExecution.scala:202)\r\n\tat org.apache.spark.sql.SparkSession.withActive(SparkSession.scala:827)\r\n\tat org.apache.spark.sql.execution.QueryExecution.executePhase(QueryExecution.scala:201)\r\n\tat org.apache.spark.sql.execution.QueryExecution.sparkPlan$lzycompute(QueryExecution.scala:162)\r\n\tat org.apache.spark.sql.execution.QueryExecution.sparkPlan(QueryExecution.scala:155)\r\n\tat org.apache.spark.sql.execution.QueryExecution.$anonfun$executedPlan$1(QueryExecution.scala:175)\r\n\tat org.apache.spark.sql.catalyst.QueryPlanningTracker.measurePhase(QueryPlanningTracker.scala:111)\r\n\tat org.apache.spark.sql.execution.QueryExecution.$anonfun$executePhase$2(QueryExecution.scala:202)\r\n\tat org.apache.spark.sql.execution.QueryExecution$.withInternalError(QueryExecution.scala:526)\r\n\tat org.apache.spark.sql.execution.QueryExecution.$anonfun$executePhase$1(QueryExecution.scala:202)\r\n\tat org.apache.spark.sql.SparkSession.withActive(SparkSession.scala:827)\r\n\tat org.apache.spark.sql.execution.QueryExecution.executePhase(QueryExecution.scala:201)\r\n\tat org.apache.spark.sql.execution.QueryExecution.executedPlan$lzycompute(QueryExecution.scala:175)\r\n\tat org.apache.spark.sql.execution.QueryExecution.executedPlan(QueryExecution.scala:168)\r\n\tat org.apache.spark.sql.execution.QueryExecution.simpleString(QueryExecution.scala:221)\r\n\tat org.apache.spark.sql.execution.QueryExecution.org$apache$spark$sql$execution$QueryExecution$$explainString(QueryExecution.scala:266)\r\n\tat org.apache.spark.sql.execution.QueryExecution.explainString(QueryExecution.scala:235)\r\n\tat org.apache.spark.sql.execution.SQLExecution$.$anonfun$withNewExecutionId$6(SQLExecution.scala:112)\r\n\tat org.apache.spark.sql.execution.SQLExecution$.withSQLConfPropagated(SQLExecution.scala:195)\r\n\tat org.apache.spark.sql.execution.SQLExecution$.$anonfun$withNewExecutionId$1(SQLExecution.scala:103)\r\n\tat org.apache.spark.sql.SparkSession.withActive(SparkSession.scala:827)\r\n\tat org.apache.spark.sql.execution.SQLExecution$.withNewExecutionId(SQLExecution.scala:65)\r\n\tat org.apache.spark.sql.execution.QueryExecution$$anonfun$eagerlyExecuteCommands$1.applyOrElse(QueryExecution.scala:98)\r\n\tat org.apache.spark.sql.execution.QueryExecution$$anonfun$eagerlyExecuteCommands$1.applyOrElse(QueryExecution.scala:94)\r\n\tat org.apache.spark.sql.catalyst.trees.TreeNode.$anonfun$transformDownWithPruning$1(TreeNode.scala:512)\r\n\tat org.apache.spark.sql.catalyst.trees.CurrentOrigin$.withOrigin(TreeNode.scala:104)\r\n\tat org.apache.spark.sql.catalyst.trees.TreeNode.transformDownWithPruning(TreeNode.scala:512)\r\n\tat org.apache.spark.sql.catalyst.plans.logical.LogicalPlan.org$apache$spark$sql$catalyst$plans$logical$AnalysisHelper$$super$transformDownWithPruning(LogicalPlan.scala:31)\r\n\tat org.apache.spark.sql.catalyst.plans.logical.AnalysisHelper.transformDownWithPruning(AnalysisHelper.scala:267)\r\n\tat org.apache.spark.sql.catalyst.plans.logical.AnalysisHelper.transformDownWithPruning$(AnalysisHelper.scala:263)\r\n\tat org.apache.spark.sql.catalyst.plans.logical.LogicalPlan.transformDownWithPruning(LogicalPlan.scala:31)\r\n\tat org.apache.spark.sql.catalyst.plans.logical.LogicalPlan.transformDownWithPruning(LogicalPlan.scala:31)\r\n\tat org.apache.spark.sql.catalyst.trees.TreeNode.transformDown(TreeNode.scala:488)\r\n\tat org.apache.spark.sql.execution.QueryExecution.eagerlyExecuteCommands(QueryExecution.scala:94)\r\n\tat org.apache.spark.sql.execution.QueryExecution.commandExecuted$lzycompute(QueryExecution.scala:81)\r\n\tat org.apache.spark.sql.execution.QueryExecution.commandExecuted(QueryExecution.scala:79)\r\n\tat org.apache.spark.sql.Dataset.<init>(Dataset.scala:219)\r\n\tat org.apache.spark.sql.Dataset$.$anonfun$ofRows$2(Dataset.scala:99)\r\n\tat org.apache.spark.sql.SparkSession.withActive(SparkSession.scala:827)\r\n\tat org.apache.spark.sql.Dataset$.ofRows(Dataset.scala:96)\r\n\tat org.apache.spark.sql.SparkSession.$anonfun$sql$1(SparkSession.scala:640)\r\n\tat org.apache.spark.sql.SparkSession.withActive(SparkSession.scala:827)\r\n\tat org.apache.spark.sql.SparkSession.sql(SparkSession.scala:630)\r\n\tat org.apache.spark.sql.SparkSession.sql(SparkSession.scala:662)\r\n\tat java.base/jdk.internal.reflect.NativeMethodAccessorImpl.invoke0(Native Method)\r\n\tat java.base/jdk.internal.reflect.NativeMethodAccessorImpl.invoke(NativeMethodAccessorImpl.java:62)\r\n\tat java.base/jdk.internal.reflect.DelegatingMethodAccessorImpl.invoke(DelegatingMethodAccessorImpl.java:43)\r\n\tat java.base/java.lang.reflect.Method.invoke(Method.java:566)\r\n\tat py4j.reflection.MethodInvoker.invoke(MethodInvoker.java:244)\r\n\tat py4j.reflection.ReflectionEngine.invoke(ReflectionEngine.java:374)\r\n\tat py4j.Gateway.invoke(Gateway.java:282)\r\n\tat py4j.commands.AbstractCommand.invokeMethod(AbstractCommand.java:132)\r\n\tat py4j.commands.CallCommand.execute(CallCommand.java:79)\r\n\tat py4j.ClientServerConnection.waitForCommands(ClientServerConnection.java:182)\r\n\tat py4j.ClientServerConnection.run(ClientServerConnection.java:106)\r\n\tat java.base/java.lang.Thread.run(Thread.java:829)\r\n"
     ]
    }
   ],
   "source": [
    "#Upsert\n",
    "spark.sql(\n",
    "    f\"\"\"\n",
    "    MERGE INTO {catalog_nm}.{sales_table_nm} AS t\n",
    "    USING (SELECT * FROM {staging_df_view}) AS s\n",
    "    ON s.transaction_id = t.transaction_id\n",
    "        AND t.year_ptt = {year_ptt}    --push down filters\n",
    "        AND t.month_ptt = {month_ptt}\n",
    "        AND t.day_ptt = {day_ptt}\n",
    "    WHEN MATCHED THEN\n",
    "        UPDATE SET\n",
    "           t.customer_id = s.customer_id,\n",
    "           t.transaction_timestamp = s.transaction_timestamp,\n",
    "           t.price = s.price,\n",
    "           t.currency = s.currency,\n",
    "           t.flight_id = s.flight_id,\n",
    "           t.booking_reference = s.booking_reference,\n",
    "           t.year_ptt = s.year_ptt,\n",
    "           t.month_ptt = s.month_ptt,\n",
    "           t.day_ptt = s.day_ptt\n",
    "    WHEN NOT MATCHED BY TARGET THEN\n",
    "        INSERT(transaction_id,customer_id,transaction_timestamp,\n",
    "            price,currency,flight_id,booking_reference,year_ptt,month_ptt,day_ptt)\n",
    "        VALUES(s.transaction_id,s.customer_id,s.transaction_timestamp,\n",
    "            s.price,s.currency,s.flight_id,s.booking_reference,s.year_ptt,s.month_ptt,s.day_ptt)\n",
    "    ;\n",
    "    \"\"\"\n",
    ")"
   ]
  },
  {
   "cell_type": "code",
   "execution_count": null,
   "id": "9613ad4a-7b59-4e9a-89c0-64d0c0f1912e",
   "metadata": {},
   "outputs": [],
   "source": []
  }
 ],
 "metadata": {
  "kernelspec": {
   "display_name": "Python (iceberg_myenv)",
   "language": "python",
   "name": "iceberg_env"
  },
  "language_info": {
   "codemirror_mode": {
    "name": "ipython",
    "version": 3
   },
   "file_extension": ".py",
   "mimetype": "text/x-python",
   "name": "python",
   "nbconvert_exporter": "python",
   "pygments_lexer": "ipython3",
   "version": "3.10.0"
  }
 },
 "nbformat": 4,
 "nbformat_minor": 5
}
