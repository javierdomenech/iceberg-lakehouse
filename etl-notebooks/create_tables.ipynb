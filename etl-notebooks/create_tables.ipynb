{
 "cells": [
  {
   "cell_type": "code",
   "execution_count": 1,
   "id": "79eb0172-456b-48c0-b0cd-d88c1691c732",
   "metadata": {},
   "outputs": [],
   "source": [
    "import pyspark\n",
    "from pyspark.sql import SparkSession\n",
    "from pyspark.sql import Row"
   ]
  },
  {
   "cell_type": "markdown",
   "id": "35e798de-d432-4062-b520-89f70ce250be",
   "metadata": {},
   "source": [
    "Install findspark to make available spark from jupyter-python"
   ]
  },
  {
   "cell_type": "code",
   "execution_count": 2,
   "id": "386f6876-6b0d-46b9-8e22-0feede1e5c20",
   "metadata": {},
   "outputs": [],
   "source": [
    "#!conda insstall openjdk\n",
    "#!conda install findspark\n",
    "#install hadoop:\n",
    "#https://github.com/ruslanmv/How-to-install-Hadoop-on-Windows?tab=readme-ov-file"
   ]
  },
  {
   "cell_type": "code",
   "execution_count": 3,
   "id": "279fd008-c135-4b35-b83e-395055153bc8",
   "metadata": {},
   "outputs": [
    {
     "data": {
      "text/plain": [
       "'c:\\\\soft\\\\miniconda3\\\\envs\\\\iceberg_env\\\\lib\\\\site-packages\\\\pyspark'"
      ]
     },
     "execution_count": 3,
     "metadata": {},
     "output_type": "execute_result"
    }
   ],
   "source": [
    "import findspark\n",
    "findspark.init()\n",
    "findspark.find()"
   ]
  },
  {
   "cell_type": "code",
   "execution_count": 4,
   "id": "a190d291-aecc-43be-a91b-9cc0ba6ccc90",
   "metadata": {},
   "outputs": [
    {
     "name": "stderr",
     "output_type": "stream",
     "text": [
      "Welcome to\n",
      "      ____              __\n",
      "     / __/__  ___ _____/ /__\n",
      "    _\\ \\/ _ \\/ _ `/ __/  '_/\n",
      "   /___/ .__/\\_,_/_/ /_/\\_\\   version 3.4.1\n",
      "      /_/\n",
      "                        \n",
      "Using Scala version 2.12.17, OpenJDK 64-Bit Server VM, 11.0.13\n",
      "Branch HEAD\n",
      "Compiled by user centos on 2023-06-19T23:01:01Z\n",
      "Revision 6b1ff22dde1ead51cbf370be6e48a802daae58b6\n",
      "Url https://github.com/apache/spark\n",
      "Type --help for more information.\n"
     ]
    }
   ],
   "source": [
    "!pyspark --version"
   ]
  },
  {
   "cell_type": "code",
   "execution_count": 5,
   "id": "17153a89-2e4f-4362-b496-c39625abdbe3",
   "metadata": {},
   "outputs": [],
   "source": [
    "#spark.stop()"
   ]
  },
  {
   "cell_type": "code",
   "execution_count": 6,
   "id": "4d8dfb86-6dc9-4180-beff-af258f5f0524",
   "metadata": {},
   "outputs": [
    {
     "name": "stdout",
     "output_type": "stream",
     "text": [
      "Spark Running\n"
     ]
    }
   ],
   "source": [
    "catalog_nm = \"flights_catalog\"\n",
    "layer_nm = \"silver\" #options: \"silver\", \"gold\"\n",
    "warehouse_path = f\"file:/C:/ws/github/iceberg-lakehouse/warehouse_flights/{layer_nm}\"\n",
    "\n",
    "conf = (\n",
    "    pyspark.SparkConf()\n",
    "    .setAppName(\"iceberg_flights_app\")\n",
    "    #packages\n",
    "    .set(\"spark.jars.packages\", \"org.apache.iceberg:iceberg-spark-runtime-3.4_2.12:1.5.2\") #spark: 3.4, scala:2.12 iceberg:1.5.2\n",
    "    #SQL extensions\n",
    "    .set(\"spark.sql.extensions\",\"org.apache.iceberg.spark.extensions:IcebergSparkSessionExtensions\")\n",
    "    #Configuring catalog\n",
    "    .set(f\"spark.sql.catalog.{catalog_nm}\",\"org.apache.iceberg.spark.SparkCatalog\")\n",
    "    .set(f\"spark.sql.catalog.{catalog_nm}.type\",\"hadoop\")\n",
    "    .set(f\"spark.sql.catalog.{catalog_nm}.warehouse\",warehouse_path)\n",
    ")\n",
    "\n",
    "#Start SparkSession\n",
    "spark = SparkSession.builder.config(conf=conf).getOrCreate()\n",
    "print(\"Spark Running\")"
   ]
  },
  {
   "cell_type": "code",
   "execution_count": 7,
   "id": "5cf37f15-0b58-456a-98d8-3aef8c38bbc8",
   "metadata": {},
   "outputs": [
    {
     "data": {
      "text/html": [
       "\n",
       "            <div>\n",
       "                <p><b>SparkSession - in-memory</b></p>\n",
       "                \n",
       "        <div>\n",
       "            <p><b>SparkContext</b></p>\n",
       "\n",
       "            <p><a href=\"http://Numah:4040\">Spark UI</a></p>\n",
       "\n",
       "            <dl>\n",
       "              <dt>Version</dt>\n",
       "                <dd><code>v3.4.1</code></dd>\n",
       "              <dt>Master</dt>\n",
       "                <dd><code>local[*]</code></dd>\n",
       "              <dt>AppName</dt>\n",
       "                <dd><code>iceberg_flights_app</code></dd>\n",
       "            </dl>\n",
       "        </div>\n",
       "        \n",
       "            </div>\n",
       "        "
      ],
      "text/plain": [
       "<pyspark.sql.session.SparkSession at 0x11386630760>"
      ]
     },
     "execution_count": 7,
     "metadata": {},
     "output_type": "execute_result"
    }
   ],
   "source": [
    "spark"
   ]
  },
  {
   "cell_type": "code",
   "execution_count": 8,
   "id": "c7383a70-803f-4852-8cc9-5de0fa9e84a0",
   "metadata": {},
   "outputs": [],
   "source": [
    "sales_table_nm = \"sales\"\n",
    "#silver_sales_loc = f\"{silver_bucket}_{sales_table_nm}\"\n",
    "#print(silver_sales_loc)"
   ]
  },
  {
   "cell_type": "code",
   "execution_count": 9,
   "id": "1b62be14-7e9f-4b23-84cb-64ea7cf17548",
   "metadata": {},
   "outputs": [
    {
     "name": "stdout",
     "output_type": "stream",
     "text": [
      "++\n",
      "||\n",
      "++\n",
      "++\n",
      "\n"
     ]
    }
   ],
   "source": [
    "spark.sql(\n",
    "    f\"\"\"\n",
    "    CREATE TABLE IF NOT EXISTS {catalog_nm}.{sales_table_nm} (\n",
    "        transaction_id STRING NOT NULL,\n",
    "        customer_id STRING NOT NULL,\n",
    "        transaction_timestamp STRING NOT NULL,\n",
    "        price STRING NOT NULL,\n",
    "        currency STRING NOT NULL,\n",
    "        flight_id STRING NOT NULL,\n",
    "        booking_reference STRING COMMENT 'May be Null if reserved with a Travel Agency',\n",
    "        year_ptt INT NOT NULL,\n",
    "        month_ptt INT NOT NULL,\n",
    "        day_ptt INT NOT NULL\n",
    "    )\n",
    "    USING iceberg\n",
    "    PARTITIONED BY (year_ptt, month_ptt, day_ptt)\n",
    "    --LOCATION sales_table_nm;\n",
    "    \"\"\"\n",
    ").show()"
   ]
  },
  {
   "cell_type": "code",
   "execution_count": 10,
   "id": "f157f698-3d80-4142-878e-24c06dd1bede",
   "metadata": {},
   "outputs": [
    {
     "name": "stdout",
     "output_type": "stream",
     "text": [
      "+--------------+-----------+---------------------+-----+--------+---------+-----------------+--------+---------+-------+\n",
      "|transaction_id|customer_id|transaction_timestamp|price|currency|flight_id|booking_reference|year_ptt|month_ptt|day_ptt|\n",
      "+--------------+-----------+---------------------+-----+--------+---------+-----------------+--------+---------+-------+\n",
      "+--------------+-----------+---------------------+-----+--------+---------+-----------------+--------+---------+-------+\n",
      "\n"
     ]
    }
   ],
   "source": [
    "sales_df = spark.sql(\n",
    "    f\"\"\"\n",
    "    SELECT * \n",
    "    FROM {catalog_nm}.{sales_table_nm}\n",
    "    LIMIT 10;\n",
    "    \"\"\"\n",
    ")\n",
    "sales_df.show()"
   ]
  },
  {
   "cell_type": "code",
   "execution_count": 11,
   "id": "9ea2df04-050d-4697-8d49-ac9d473e7890",
   "metadata": {},
   "outputs": [
    {
     "name": "stdout",
     "output_type": "stream",
     "text": [
      "+--------+\n",
      "|count(1)|\n",
      "+--------+\n",
      "|       0|\n",
      "+--------+\n",
      "\n"
     ]
    }
   ],
   "source": [
    "spark.sql(\n",
    "    f\"\"\"\n",
    "    SELECT COUNT(*) \n",
    "    FROM {catalog_nm}.{sales_table_nm};\n",
    "    \"\"\"\n",
    ").show()"
   ]
  },
  {
   "cell_type": "code",
   "execution_count": 12,
   "id": "0129d197-077e-4a29-8731-4bc3e3b03f47",
   "metadata": {
    "scrolled": true
   },
   "outputs": [
    {
     "name": "stdout",
     "output_type": "stream",
     "text": [
      "root\n",
      " |-- transaction_id: string (nullable = false)\n",
      " |-- customer_id: string (nullable = false)\n",
      " |-- transaction_timestamp: string (nullable = false)\n",
      " |-- price: string (nullable = false)\n",
      " |-- currency: string (nullable = false)\n",
      " |-- flight_id: string (nullable = false)\n",
      " |-- booking_reference: string (nullable = true)\n",
      " |-- year_ptt: integer (nullable = false)\n",
      " |-- month_ptt: integer (nullable = false)\n",
      " |-- day_ptt: integer (nullable = false)\n",
      "\n"
     ]
    }
   ],
   "source": [
    "sales_df.printSchema()"
   ]
  },
  {
   "cell_type": "code",
   "execution_count": null,
   "id": "92f207be-5706-47a7-9fa6-7aa0517fd3a5",
   "metadata": {},
   "outputs": [],
   "source": []
  }
 ],
 "metadata": {
  "kernelspec": {
   "display_name": "Python (iceberg_myenv)",
   "language": "python",
   "name": "iceberg_env"
  },
  "language_info": {
   "codemirror_mode": {
    "name": "ipython",
    "version": 3
   },
   "file_extension": ".py",
   "mimetype": "text/x-python",
   "name": "python",
   "nbconvert_exporter": "python",
   "pygments_lexer": "ipython3",
   "version": "3.10.0"
  }
 },
 "nbformat": 4,
 "nbformat_minor": 5
}
